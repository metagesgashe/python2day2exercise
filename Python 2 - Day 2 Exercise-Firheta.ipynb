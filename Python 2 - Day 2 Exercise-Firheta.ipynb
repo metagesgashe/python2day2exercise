{
 "cells": [
  {
   "cell_type": "markdown",
   "metadata": {},
   "source": [
    "# OOP - Encapsulation, Inheritance, Polymorphism, & Abstraction"
   ]
  },
  {
   "cell_type": "markdown",
   "metadata": {},
   "source": [
    "Exercise 1: Create a Temperature Converter program using OOP by creating a Temperature class with two private attributes to store Fahrenheit and Celsius degrees. In the Temperature class, define methods that \n",
    "- sets the private attributes. When you set one unit of temperature, it should calculate and set the other unit of temperature. For example, when you set degrees in Fahrenheit, it should calculate and set in Celsius degrees. \n",
    "- gets the hidden attributes that round the number to 2 decimal places. \n",
    "\n",
    "The output should look something like following:\n",
    "\n",
    "    MENU\n",
    "    1. Fahrenheit to Celsius\n",
    "    2. Celsius to Fahrenheit\n",
    "    3. Quit\n",
    "    \n",
    "    Enter a menu option: 1\n",
    "    Enter degrees in Fahrenheit: 99\n",
    "    99.00 oF is 37.22 oC.\n",
    "    \n",
    "    Enter a menu option: 2\n",
    "    Enter degrees in Celsius: 37.22\n",
    "    37.22 oC is 99.00 oF.\n",
    "    \n",
    "    Enter a menu option: 3\n",
    "    Bye\n"
   ]
  },
  {
   "cell_type": "code",
   "execution_count": 35,
   "metadata": {},
   "outputs": [],
   "source": [
    "class Temprature:\n",
    "    def __init__(self):\n",
    "        self.__fahrenheit = 0\n",
    "        self.__celsius = 0\n",
    "    def fa_to_ce(self, fara):\n",
    "        return f\"{fara:.2f} oF is {(fara -32)*5/9:.2f} oC\"\n",
    "    def ce_to_fa(self, cels):\n",
    "        return f\"{cels} oC is {(cels)*9/5 + 32:.2f} oF\"\n",
    "    "
   ]
  },
  {
   "cell_type": "code",
   "execution_count": 39,
   "metadata": {},
   "outputs": [
    {
     "name": "stdout",
     "output_type": "stream",
     "text": [
      "MENU\n",
      "1. Fahrenheit to Celsius\n",
      "2. Celsius to Fahrenheit\n",
      "3. Quit\n",
      "\n",
      "Enter a menu option: 1\n",
      "Enter degrees in Fahrenheit: 99\n",
      "99.00 oF is 37.22 oC\n",
      "Enter a menu option: 2\n",
      "Enter degrees in celsius: 37.22\n",
      "37.22 oC is 99.00 oF\n",
      "Enter a menu option: 3\n",
      "\n",
      "Bye!\n"
     ]
    }
   ],
   "source": [
    "def menu():\n",
    "    print(\"MENU\")\n",
    "    print(\"1. Fahrenheit to Celsius\")\n",
    "    print(\"2. Celsius to Fahrenheit\")\n",
    "    print(\"3. Quit\")\n",
    "menu()\n",
    "check = Temprature()\n",
    "print()\n",
    "while True:\n",
    "    ans = input(\"Enter a menu option: \")\n",
    "    if ans == \"3\":\n",
    "        break\n",
    "    if ans == \"1\":\n",
    "        response1 = float(input(\"Enter degrees in Fahrenheit: \"))\n",
    "        print(check.fa_to_ce(response1))\n",
    "    elif ans == \"2\":\n",
    "        response2 = float(input(\"Enter degrees in celsius: \"))\n",
    "        print(check.ce_to_fa(response2))\n",
    "    else:\n",
    "        print(\"please choose the correct option\")\n",
    "\n",
    "print(\"Bye!\")        "
   ]
  },
  {
   "cell_type": "markdown",
   "metadata": {},
   "source": [
    "Exercise 2: Create a Privileges class that has privileges, a private attribute. It can store a list of strings such as \"can add\", \"can delete\", and \"can modify\".  Write a method called show_privileges(). \n",
    "\n",
    "Create a class called Admin that inherits from the Person class (from Pyton 2 Day 2 Class Demo.ipynb - see next cell). Make a Privileges instance as an attribute in the Admin class. Create a new instance of Admin and use your method to show its privileges.\n"
   ]
  },
  {
   "cell_type": "code",
   "execution_count": 84,
   "metadata": {},
   "outputs": [
    {
     "name": "stdout",
     "output_type": "stream",
     "text": [
      "Name: John\n",
      "Age: 12\n",
      "Gender: male privileges: ['can add', 'can delet', 'can modify']\n"
     ]
    }
   ],
   "source": [
    "class Privileges:\n",
    "    def __init__(self):\n",
    "        self.__privileges = [\"can add\", \"can delet\", \"can modify\"]\n",
    "    def show_privileges(self):\n",
    "        return self.__privileges\n",
    "                \n",
    "                 \n",
    "\n",
    "class Person :\n",
    "    \n",
    "    def __init__(self, name, age, gender) :\n",
    "        self.__name = name\n",
    "        self.__age = age\n",
    "        self.__gender = gender\n",
    "\n",
    "    def get_name(self) :\n",
    "        return self.__name\n",
    "    \n",
    "    def get_info(self) :\n",
    "        return f\"Name: {self.__name}\\nAge: {self.__age}\\nGender: {self.__gender}\"\n",
    "class Admin(Person):\n",
    "    def __init__(self, name, age, gender):\n",
    "        super().__init__(name, age, gender)\n",
    "        self.__privilege = None\n",
    "    def show_privilege(self):\n",
    "        return self.__privilege\n",
    "    def set_privilege(self, privilege):\n",
    "        self.__privilege = privilege\n",
    "    \n",
    "    def get_info(self):\n",
    "        info = super().get_info() + f\" privileges: {self.__privilege.show_privileges()}\"\n",
    "        return info\n",
    "    \n",
    "admin1 = Admin(\"John\", 12, \"male\")\n",
    "priv = Privileges()\n",
    "admin1.set_privilege(priv)\n",
    "print(admin1.get_info())\n"
   ]
  },
  {
   "cell_type": "markdown",
   "metadata": {},
   "source": [
    "Exercise 3:\n",
    "1. Use the Product class from Day 1 Class Demo - see next cell\n",
    "2. Add get_description() method to Product class\n",
    "3. Create Book class inherited from the Product class. Add author attribute to the Book class and make modification to get_description() method\n",
    "4. Create Movie class inherited from the Product class. Add year attributes. Add/modify necessary methods\n"
   ]
  },
  {
   "cell_type": "code",
   "execution_count": 2,
   "metadata": {},
   "outputs": [],
   "source": [
    "# From Day 1 Class Demo\n",
    "class Product : \n",
    "    \"\"\"A simple attempt to model a product.\"\"\"\n",
    "    \n",
    "    def __init__(self, name, price, discount_rate) :\n",
    "        \"\"\"Initialize name, price, and discount_rate attributes\"\"\"\n",
    "        self.name = name\n",
    "        self.price = price\n",
    "        self.discount_rate = discount_rate\n",
    "        \n",
    "        \n",
    "    def get_discount_amount(self) :\n",
    "        \"\"\"Computes a discount calculation\"\"\"\n",
    "        return self.price * self.discount_rate / 100\n",
    "    \n",
    "        \n",
    "    def get_info(self) :\n",
    "        return(f\"Name: {self.name}\\n\" + \n",
    "                f\"Price: {self.price}\\n\" +\n",
    "                f\"Disicount Amount: ${self.get_discount_amount():,.2f}\\n\" +\n",
    "                f\"Discounted Price: ${self.get_sale_price():,.2f}\")\n",
    "    \n",
    "    def get_sale_price(self) :\n",
    "        \"\"\"Calls another method to find a sale price\"\"\"\n",
    "        return self.price - self.get_discount_amount()\n",
    "    def get_description(self):\n",
    "        return f\"This product is...\"\n",
    "        \n"
   ]
  },
  {
   "cell_type": "code",
   "execution_count": 4,
   "metadata": {},
   "outputs": [
    {
     "name": "stdout",
     "output_type": "stream",
     "text": [
      "This product is...owned by Thomas\n",
      "=========================\n",
      "Name: movie\n",
      "Price: 200\n",
      "Disicount Amount: $60.00\n",
      "Discounted Price: $140.00\n",
      "year: 1998\n"
     ]
    }
   ],
   "source": [
    "class Book(Product):\n",
    "    def __init__ (self, name, price, discount_rate):\n",
    "        super().__init__(name, price, discount_rate)\n",
    "        author = None        \n",
    "    def description(self, author):\n",
    "        self.author = author\n",
    "    def get_description(self):\n",
    "        return super().get_description() + f\"owned by {self.author}\"\n",
    "class Movie(Product):\n",
    "    def __init__ (self, name, price, discount_rate):\n",
    "        super().__init__(name, price, discount_rate)\n",
    "        self.year = None\n",
    "    def get_year(self, year):\n",
    "        self.year = year\n",
    "    def get_info(self):\n",
    "        info = super().get_info() + f\"\\nyear: {self.year}\" \n",
    "        return info\n",
    "book = Book(\"book\", 100, 10)\n",
    "book.description(\"Thomas\")\n",
    "print(book.get_description())\n",
    "print(\"=\"*25)\n",
    "movie = Movie(\"movie\", 200, 30)\n",
    "movie.get_year(1998)\n",
    "print(movie.get_info())"
   ]
  },
  {
   "cell_type": "markdown",
   "metadata": {},
   "source": [
    "Exercise 4: Create an abstract class called Vehicle with \n",
    "- color, make, and year private attributes \n",
    "\n",
    "and abstract method called \n",
    "- get_info() which returns all information\n",
    "- honk() which returns a string of honking sound\n",
    "\n",
    "Create Car, Boat, and Bicycle class which is a child class of the Vehicle class.  Then, create an instance of each child class and call get_info() method to print out its information in a user friendly format. Add other methods as you like."
   ]
  },
  {
   "cell_type": "code",
   "execution_count": 85,
   "metadata": {},
   "outputs": [],
   "source": [
    "from abc import ABC, abstractmethod\n",
    "class Vehicle(ABC):\n",
    "    @abstractmethod\n",
    "    def __init__(self, color, make, year):\n",
    "        self.__color = color\n",
    "        self.__make = make\n",
    "        self.__year = year\n",
    "    @abstractmethod\n",
    "    def get_info(self):\n",
    "        return f\"color\\t make\\tyear\\n{self.__color}\\t {self.__make}\\t {self.__year}\"\n",
    "    def get_color(self):\n",
    "        return self.__color\n",
    "    @abstractmethod\n",
    "    def honk(self):\n",
    "        return f\"{self.__name} said '...'\"\n",
    "class Car(Vehicle):\n",
    "    def __init__(self, color, make, year):\n",
    "        super().__init__(color, make, year)\n",
    "    def get_info(self):\n",
    "        return super().get_info()\n",
    "    def honk(self):\n",
    "        return f\"{super().get_color()} said 'beep!'\"\n",
    "    \n",
    "class Boat(Vehicle):\n",
    "    def __init__(self, color, make, year):\n",
    "        super().__init__(color, make, year)\n",
    "    def get_info(self):\n",
    "        return super().get_info()\n",
    "    def honk(self):\n",
    "        return f\"{super().get_color()} said 'brrrrr!'\"\n",
    "class Bicycle(Vehicle):\n",
    "    def __init__(self, color, make, year):\n",
    "        super().__init__(color, make, year)\n",
    "    def get_info(self):\n",
    "        return super().get_info()\n",
    "    def honk(self):\n",
    "        return f\"{super().get_color()} said 'cliick!'\"\n",
    "    "
   ]
  },
  {
   "cell_type": "code",
   "execution_count": 86,
   "metadata": {},
   "outputs": [
    {
     "name": "stdout",
     "output_type": "stream",
     "text": [
      "color\t make\tyear\n",
      "Blue\t Honda\t 2010\n",
      "\n",
      "color\t make\tyear\n",
      "white\t Toyota\t 2018\n",
      "\n",
      "color\t make\tyear\n",
      "Red\t BMW\t 2012\n",
      "******************************\n",
      "Blue said 'beep!'\n",
      "white said 'brrrrr!'\n",
      "Red said 'cliick!'\n"
     ]
    }
   ],
   "source": [
    "car = Car(\"Blue\", \"Honda\", 2010)\n",
    "boat = Boat(\"white\", \"Toyota\", 2018)\n",
    "bicycle = Bicycle(\"Red\", \"BMW\", 2012)\n",
    "print(car.get_info())\n",
    "print()\n",
    "print(boat.get_info())\n",
    "print()\n",
    "print(bicycle.get_info())\n",
    "print(\"*\"*30)\n",
    "print(car.honk())\n",
    "print(boat.honk())\n",
    "print(bicycle.honk())\n"
   ]
  },
  {
   "cell_type": "markdown",
   "metadata": {},
   "source": [
    "Exercise 5: Create an abstract class called Person with name and address attributes, and print_info() abstract method. \n",
    "1. Build an Employee class inherited from Person class that \n",
    "    - stores hired date and salary attributes \n",
    "    - print_info() method that will be used to print out all information about an employee\n",
    "    - a method to calculate employee's monthly pay where federal tax is 15%, MD tax is 4.5%, and a local tax is 3%.\n",
    "    \n",
    "2. Build a Customer class also inherited from Person class that\n",
    "    - stores balance attribute\n",
    "    - print_info() method that will be used to print out all information about a customer\n",
    "\n",
    "\n",
    "Build any method you need but apply encapsulation at all possible. Then, write a program to show your classes work with multiple employees and customers. \n",
    "\n",
    "CHALLENGE!!!\n",
    "Create an Address class and use it in Person class"
   ]
  },
  {
   "cell_type": "code",
   "execution_count": 109,
   "metadata": {},
   "outputs": [],
   "source": [
    "from abc import ABC, abstractmethod\n",
    "class Person(ABC):\n",
    "    def __init__(self, name, address):\n",
    "        self.__name = name\n",
    "        self.__address = address\n",
    "    @abstractmethod\n",
    "    def print_info(self):\n",
    "        return f\"Name:\\t\\t{self.__name}\\nAddress:\\t{self.__address}\"\n",
    "class Employee(Person):\n",
    "    def __init__(self, name, address):\n",
    "        super().__init__(name, address)\n",
    "        self.__hired_date = None\n",
    "        self.__salary = 0\n",
    "    def show_hired_date(self):\n",
    "        return self.__hired_date\n",
    "    def show_salary(self):\n",
    "        return self.__salary \n",
    "    def monthly_pay(self):\n",
    "        return f\"${self.__salary - (self.__salary*0.15 + self.__salary*0.045 + self.__salary*0.03):.2f}\"\n",
    "    def print_info(self):\n",
    "        return (super().print_info() + f\"\\nHired date: \\t{self.__hired_date}\\n\" +\n",
    "        f\"Salary: \\t{self.monthly_pay()}\")\n",
    "    def set_hired_date(self, hired_date):\n",
    "        self.__hired_date = hired_date\n",
    "    def set_salary(self, salary):\n",
    "        self.__salary = salary\n",
    "class Customer(Person):\n",
    "    def __init__(self, name, address):\n",
    "        super().__init__(name, address)\n",
    "        self.__balance = 0\n",
    "    def set_balance(self, balance):\n",
    "        self.__balance = balance\n",
    "    def show_balance(self):\n",
    "        return self.__balance\n",
    "    def print_info(self):\n",
    "        return super().print_info() + f\"\\nBalance: \\t{self.__balance}\""
   ]
  },
  {
   "cell_type": "code",
   "execution_count": 110,
   "metadata": {},
   "outputs": [
    {
     "name": "stdout",
     "output_type": "stream",
     "text": [
      "Name:\t\tJohn\n",
      "Address:\tsilver spring\n",
      "Hired date: \t2020-11-01\n",
      "Salary: \t$775.00\n",
      "=========================\n",
      "Name:\t\tGeorge\n",
      "Address:\tDC\n",
      "Balance: \t2000\n"
     ]
    }
   ],
   "source": [
    "import datetime as dt\n",
    "john = Employee(\"John\", \"silver spring\")\n",
    "george = Customer(\"George\", \"DC\")\n",
    "john.set_hired_date(dt.date.today())\n",
    "john.set_salary(1000)\n",
    "george.set_balance(2000)\n",
    "print(john.print_info())\n",
    "print(\"=\"*25)\n",
    "print(george.print_info())\n",
    "\n"
   ]
  },
  {
   "cell_type": "code",
   "execution_count": 111,
   "metadata": {},
   "outputs": [
    {
     "name": "stdout",
     "output_type": "stream",
     "text": [
      "Name:\t\tJohn\n",
      "Address:\t\n",
      "HouseNo:\t230\n",
      "Street:\t\tgeorgia ave.\n",
      "City:\t\tSilver Spring\n",
      "Hired date: \t2020-11-01\n",
      "Salary: \t$775.00\n"
     ]
    }
   ],
   "source": [
    "# Challenge\n",
    "class Adress:\n",
    "    def __init__(self, houseNo, street, city):\n",
    "        self.__houseNo = houseNo\n",
    "        self.__street = street\n",
    "        self.__city = city\n",
    "    def get_house(self):\n",
    "        return self.__houseNo\n",
    "    def get_street(self):\n",
    "        return self.__street\n",
    "    def get_city(self):\n",
    "        return self.__city\n",
    "    def address_info(self):\n",
    "        return (f\"\\nHouseNo:\\t{self.get_house()}\\nStreet:\\t\\t{self.get_street()}\\nCity:\\t\\t{self.get_city()}\")\n",
    "    \n",
    "address1 = Adress(230, \"georgia ave.\", \"Silver Spring\")\n",
    "john = Employee(\"John\", address1.address_info())\n",
    "john.set_hired_date(dt.date.today())\n",
    "john.set_salary(1000)\n",
    "print(john.print_info()) "
   ]
  },
  {
   "cell_type": "code",
   "execution_count": null,
   "metadata": {},
   "outputs": [],
   "source": []
  }
 ],
 "metadata": {
  "kernelspec": {
   "display_name": "Python 3",
   "language": "python",
   "name": "python3"
  },
  "language_info": {
   "codemirror_mode": {
    "name": "ipython",
    "version": 3
   },
   "file_extension": ".py",
   "mimetype": "text/x-python",
   "name": "python",
   "nbconvert_exporter": "python",
   "pygments_lexer": "ipython3",
   "version": "3.8.3"
  }
 },
 "nbformat": 4,
 "nbformat_minor": 4
}
